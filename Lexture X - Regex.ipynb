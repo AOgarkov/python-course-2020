{
 "cells": [
  {
   "cell_type": "markdown",
   "metadata": {},
   "source": [
    "## Методы модуля re"
   ]
  },
  {
   "cell_type": "markdown",
   "metadata": {},
   "source": [
    "### re.match(pattern, string) - поиск по заданному шаблону в начале строки"
   ]
  },
  {
   "cell_type": "code",
   "execution_count": 3,
   "metadata": {},
   "outputs": [
    {
     "name": "stdout",
     "output_type": "stream",
     "text": [
      "<_sre.SRE_Match object; span=(0, 6), match='Python'>\n",
      "Python\n",
      "0\n",
      "6\n",
      "None\n"
     ]
    }
   ],
   "source": [
    "import re\n",
    "result = re.match(r'Python', 'Python is the best')\n",
    "print(result)  # <re.Match object; span=(0, 6), match='Python'>\n",
    "print(result.group(0))  # Python\n",
    "print(result.start())  # 0\n",
    "print(result.end())  # 6\n",
    "result = re.match(r'the', 'Python is the best')\n",
    "print(result)  # None"
   ]
  },
  {
   "cell_type": "markdown",
   "metadata": {},
   "source": [
    "### re.search(pattern, string) - поиск по заданному шаблону. Ищет по всей строке, но возвращает только первое найденное совпадение."
   ]
  },
  {
   "cell_type": "code",
   "execution_count": 4,
   "metadata": {},
   "outputs": [
    {
     "name": "stdout",
     "output_type": "stream",
     "text": [
      "<_sre.SRE_Match object; span=(10, 13), match='the'>\n",
      "the\n",
      "10\n",
      "13\n"
     ]
    }
   ],
   "source": [
    "import re\n",
    "result = re.search(r'the', 'Python is the best')\n",
    "print(result)  # <re.Match object; span=(10, 13), match='the'>\n",
    "print(result.group(0))  # the\n",
    "print(result.start())  # 10\n",
    "print(result.end())  # 13"
   ]
  },
  {
   "cell_type": "markdown",
   "metadata": {},
   "source": [
    "### Использование специальных операторов"
   ]
  },
  {
   "cell_type": "code",
   "execution_count": 6,
   "metadata": {},
   "outputs": [
    {
     "name": "stdout",
     "output_type": "stream",
     "text": [
      "<_sre.SRE_Match object; span=(0, 6), match='Python'>\n",
      "Python\n",
      "0\n",
      "6\n"
     ]
    }
   ],
   "source": [
    "import re\n",
    "result = re.search(r'\\w*th\\w*', 'Python is the best')\n",
    "print(result)  # <re.Match object; span=(0, 6), match='Python'>\n",
    "print(result.group(0))  # Python\u000bprint(result.start())  # 0\n",
    "print(result.end())  # 6\n"
   ]
  },
  {
   "cell_type": "markdown",
   "metadata": {},
   "source": [
    "### re.findall(pattern, string) - возвращает список всех найденных совпадений."
   ]
  },
  {
   "cell_type": "code",
   "execution_count": 7,
   "metadata": {},
   "outputs": [
    {
     "name": "stdout",
     "output_type": "stream",
     "text": [
      "['Python', 'the']\n"
     ]
    }
   ],
   "source": [
    "import re\n",
    "result = re.findall(r'\\w*th\\w*', 'Python is the best')\n",
    "print(result)  # ['Python', 'the']\n"
   ]
  },
  {
   "cell_type": "markdown",
   "metadata": {},
   "source": [
    "### re.split(pattern, string, [maxsplit=0]) - разделяет строку по заданному шаблону."
   ]
  },
  {
   "cell_type": "code",
   "execution_count": 8,
   "metadata": {},
   "outputs": [
    {
     "name": "stdout",
     "output_type": "stream",
     "text": [
      "['Python', 'is', 'the', 'best', 'Moreover', 're', 'is', 'the', 'best']\n"
     ]
    }
   ],
   "source": [
    "import re\n",
    "result = re.split(r'\\W+', 'Python is the best. Moreover, re is the best')\n",
    "print(result)  # ['Python', 'is', 'the', 'best', 'Moreover', 're', 'is', 'the', 'best']"
   ]
  },
  {
   "cell_type": "markdown",
   "metadata": {},
   "source": [
    "### re.sub(pattern, repl, string) - ищет шаблон в строке и заменяет его на указанную подстроку. Если шаблон не найден, строка остается неизменной."
   ]
  },
  {
   "cell_type": "code",
   "execution_count": 9,
   "metadata": {},
   "outputs": [
    {
     "name": "stdout",
     "output_type": "stream",
     "text": [
      "Python is the best prog lang in the World\n"
     ]
    }
   ],
   "source": [
    "import re\n",
    "result = re.sub(r'Russia', 'the World', 'Python is the best prog lang in Russia')\n",
    "print(result)  # Python is the best prog lang in the World"
   ]
  },
  {
   "cell_type": "markdown",
   "metadata": {},
   "source": [
    "### re.compile(pattern, repl, string) - собрать регулярное выражение в отдельный объект, который может быть использован для поиска. Это также избавляет от переписывания одного и того же выражения."
   ]
  },
  {
   "cell_type": "code",
   "execution_count": 13,
   "metadata": {},
   "outputs": [],
   "source": [
    "import re\n",
    "pattern = re.compile(r'\\w*th\\w*')"
   ]
  },
  {
   "cell_type": "code",
   "execution_count": 15,
   "metadata": {},
   "outputs": [
    {
     "name": "stdout",
     "output_type": "stream",
     "text": [
      "['Python', 'the']\n",
      "['Cython', 'the', 'thing']\n"
     ]
    }
   ],
   "source": [
    "result = pattern.findall('Python is the best')\n",
    "print(result)  # ['Python', 'the']\n",
    "\n",
    "result2 = pattern.findall('Cython is the thing')\n",
    "print(result2)  # ['Cython', 'the', 'thing']"
   ]
  },
  {
   "cell_type": "markdown",
   "metadata": {},
   "source": [
    "### Задача 1: Вернуть первое слово из строки."
   ]
  },
  {
   "cell_type": "code",
   "execution_count": null,
   "metadata": {},
   "outputs": [],
   "source": []
  },
  {
   "cell_type": "markdown",
   "metadata": {},
   "source": [
    "### Задача 2: Вернуть первые два символа каждого слова."
   ]
  },
  {
   "cell_type": "code",
   "execution_count": null,
   "metadata": {},
   "outputs": [],
   "source": []
  },
  {
   "cell_type": "markdown",
   "metadata": {},
   "source": [
    "### Задача 3: Вернуть список доменов из списка адресов электронной почты. Доп.: вытащить только домен верхнего уровня"
   ]
  },
  {
   "cell_type": "code",
   "execution_count": null,
   "metadata": {},
   "outputs": [],
   "source": []
  },
  {
   "cell_type": "markdown",
   "metadata": {},
   "source": [
    "### Задача 4: Извлечь дату из строки ('Amit 34-3456 12-05-2007, XYZ 56-4532 11-11-2011, ABC 67-8945 12-01-2009’). Доп.: вытащить только год"
   ]
  },
  {
   "cell_type": "code",
   "execution_count": null,
   "metadata": {},
   "outputs": [],
   "source": []
  },
  {
   "cell_type": "markdown",
   "metadata": {},
   "source": [
    "### Задача 5: Извлечь все слова, начинающиеся на гласную"
   ]
  },
  {
   "cell_type": "code",
   "execution_count": null,
   "metadata": {},
   "outputs": [],
   "source": []
  },
  {
   "cell_type": "markdown",
   "metadata": {},
   "source": [
    "### Задача 6: Разбить строку по нескольким разделителям"
   ]
  },
  {
   "cell_type": "code",
   "execution_count": null,
   "metadata": {},
   "outputs": [],
   "source": []
  },
  {
   "cell_type": "markdown",
   "metadata": {},
   "source": [
    "### Задача 7: Проверить телефонный номер (номер должен быть длиной 10 знаков и начинаться с 8 или 9)"
   ]
  },
  {
   "cell_type": "code",
   "execution_count": null,
   "metadata": {},
   "outputs": [],
   "source": []
  }
 ],
 "metadata": {
  "kernelspec": {
   "display_name": "Python 3",
   "language": "python",
   "name": "python3"
  },
  "language_info": {
   "codemirror_mode": {
    "name": "ipython",
    "version": 3
   },
   "file_extension": ".py",
   "mimetype": "text/x-python",
   "name": "python",
   "nbconvert_exporter": "python",
   "pygments_lexer": "ipython3",
   "version": "3.6.5"
  }
 },
 "nbformat": 4,
 "nbformat_minor": 2
}
